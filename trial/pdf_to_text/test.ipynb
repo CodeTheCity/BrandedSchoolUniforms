{
 "cells": [
  {
   "cell_type": "code",
   "execution_count": 4,
   "metadata": {},
   "outputs": [
    {
     "name": "stdout",
     "output_type": "stream",
     "text": [
      "Requirement already satisfied: PyPDF2 in c:\\python312\\lib\\site-packages (3.0.1)Note: you may need to restart the kernel to use updated packages.\n"
     ]
    },
    {
     "name": "stderr",
     "output_type": "stream",
     "text": [
      "\n",
      "[notice] A new release of pip is available: 23.2.1 -> 24.0\n",
      "[notice] To update, run: python.exe -m pip install --upgrade pip\n"
     ]
    },
    {
     "name": "stdout",
     "output_type": "stream",
     "text": [
      "\n"
     ]
    }
   ],
   "source": [
    "pip install PyPDF2"
   ]
  },
  {
   "cell_type": "code",
   "execution_count": 5,
   "metadata": {},
   "outputs": [
    {
     "name": "stdout",
     "output_type": "stream",
     "text": [
      "Test PDF  \n",
      "Lorem Ipsum is simply dummy text of the printing and typesetting industry. Lorem Ipsum has been the \n",
      "industry's standard dummy text ever since the 1500s, when an unknown printer took a galley of type \n",
      "and scrambled it to make a type specimen book. It has sur vived not only five centuries, but also the leap \n",
      "into electronic typesetting, remaining essentially unchanged. It was popularised in the 1960s with the \n",
      "release of Letraset sheets containing Lorem Ipsum passages, and more recently with desktop publishing \n",
      "software like Aldus PageMaker including versions of Lorem Ipsum.  \n",
      "Lorem Ipsum is simply dummy text of the printing and typesetting industry. Lorem Ipsum has been the \n",
      "industry's standard dummy text ever since the 1500s, when an unknown printer took a galley of type \n",
      "and scrambled it to make a type specimen book. It has survived not only five centuries, but also the leap \n",
      "into electronic typesetting, remaining essentially unchanged. It was popularised in the 1960s with the \n",
      "release of Letraset sheets containing Lore m Ipsum passages, and more recently with desktop publishing \n",
      "software like Aldus PageMaker including versions of Lorem Ipsum.  \n",
      "Lorem Ipsum is simply dummy text of the printing and typesetting industry. Lorem Ipsum has been the \n",
      "industry's standard dummy text e ver since the 1500s, when an unknown printer took a galley of type \n",
      "and scrambled it to make a type specimen book. It has survived not only five centuries, but also the leap \n",
      "into electronic typesetting, remaining essentially unchanged. It was popularised in  the 1960s with the \n",
      "release of Letraset sheets containing Lorem Ipsum passages, and more recently with desktop publishing \n",
      "software like Aldus PageMaker including versions of Lorem Ipsum.  \n",
      "Lorem Ipsum is simply dummy text of the printing and typesetting indus try. Lorem Ipsum has been the \n",
      "industry's standard dummy text ever since the 1500s, when an unknown printer took a galley of type \n",
      "and scrambled it to make a type specimen book. It has survived not only five centuries, but also the leap \n",
      "into electronic types etting, remaining essentially unchanged. It was popularised in the 1960s with the \n",
      "release of Letraset sheets containing Lorem Ipsum passages, and more recently with desktop publishing \n",
      "software like Aldus PageMaker including versions of Lorem Ipsum.  \n"
     ]
    }
   ],
   "source": [
    "from PyPDF2 import PdfReader\n",
    "\n",
    "reader = PdfReader(\"example.pdf\")\n",
    "page = reader.pages[0]\n",
    "print(page.extract_text())"
   ]
  }
 ],
 "metadata": {
  "kernelspec": {
   "display_name": "Python 3",
   "language": "python",
   "name": "python3"
  },
  "language_info": {
   "codemirror_mode": {
    "name": "ipython",
    "version": 3
   },
   "file_extension": ".py",
   "mimetype": "text/x-python",
   "name": "python",
   "nbconvert_exporter": "python",
   "pygments_lexer": "ipython3",
   "version": "3.12.1"
  }
 },
 "nbformat": 4,
 "nbformat_minor": 2
}
