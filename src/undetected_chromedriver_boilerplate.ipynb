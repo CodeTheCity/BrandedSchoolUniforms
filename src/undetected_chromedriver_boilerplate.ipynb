{
  "nbformat": 4,
  "nbformat_minor": 0,
  "metadata": {
    "colab": {
      "provenance": [],
      "toc_visible": true
    },
    "kernelspec": {
      "name": "python3",
      "display_name": "Python 3"
    },
    "language_info": {
      "name": "python"
    }
  },
  "cells": [
    {
      "cell_type": "code",
      "execution_count": null,
      "metadata": {
        "colab": {
          "base_uri": "https://localhost:8080/"
        },
        "id": "YVZ-KtgjGiow",
        "outputId": "8280c66d-c3a5-4d0b-df62-1e70003dd071"
      },
      "outputs": [
        {
          "output_type": "stream",
          "name": "stdout",
          "text": [
            "Collecting undetected-chromedriver\n",
            "  Downloading undetected-chromedriver-3.5.5.tar.gz (65 kB)\n",
            "\u001b[2K     \u001b[90m━━━━━━━━━━━━━━━━━━━━━━━━━━━━━━━━━━━━━━━━\u001b[0m \u001b[32m65.4/65.4 kB\u001b[0m \u001b[31m797.2 kB/s\u001b[0m eta \u001b[36m0:00:00\u001b[0m\n",
            "\u001b[?25h  Preparing metadata (setup.py) ... \u001b[?25l\u001b[?25hdone\n",
            "Collecting selenium>=4.9.0 (from undetected-chromedriver)\n",
            "  Downloading selenium-4.18.1-py3-none-any.whl (10.0 MB)\n",
            "\u001b[2K     \u001b[90m━━━━━━━━━━━━━━━━━━━━━━━━━━━━━━━━━━━━━━━━\u001b[0m \u001b[32m10.0/10.0 MB\u001b[0m \u001b[31m27.2 MB/s\u001b[0m eta \u001b[36m0:00:00\u001b[0m\n",
            "\u001b[?25hRequirement already satisfied: requests in /usr/local/lib/python3.10/dist-packages (from undetected-chromedriver) (2.31.0)\n",
            "Collecting websockets (from undetected-chromedriver)\n",
            "  Downloading websockets-12.0-cp310-cp310-manylinux_2_5_x86_64.manylinux1_x86_64.manylinux_2_17_x86_64.manylinux2014_x86_64.whl (130 kB)\n",
            "\u001b[2K     \u001b[90m━━━━━━━━━━━━━━━━━━━━━━━━━━━━━━━━━━━━━━━━\u001b[0m \u001b[32m130.2/130.2 kB\u001b[0m \u001b[31m8.1 MB/s\u001b[0m eta \u001b[36m0:00:00\u001b[0m\n",
            "\u001b[?25hRequirement already satisfied: urllib3[socks]<3,>=1.26 in /usr/local/lib/python3.10/dist-packages (from selenium>=4.9.0->undetected-chromedriver) (2.0.7)\n",
            "Collecting trio~=0.17 (from selenium>=4.9.0->undetected-chromedriver)\n",
            "  Downloading trio-0.24.0-py3-none-any.whl (460 kB)\n",
            "\u001b[2K     \u001b[90m━━━━━━━━━━━━━━━━━━━━━━━━━━━━━━━━━━━━━━━━\u001b[0m \u001b[32m460.2/460.2 kB\u001b[0m \u001b[31m26.2 MB/s\u001b[0m eta \u001b[36m0:00:00\u001b[0m\n",
            "\u001b[?25hCollecting trio-websocket~=0.9 (from selenium>=4.9.0->undetected-chromedriver)\n",
            "  Downloading trio_websocket-0.11.1-py3-none-any.whl (17 kB)\n",
            "Requirement already satisfied: certifi>=2021.10.8 in /usr/local/lib/python3.10/dist-packages (from selenium>=4.9.0->undetected-chromedriver) (2024.2.2)\n",
            "Requirement already satisfied: typing_extensions>=4.9.0 in /usr/local/lib/python3.10/dist-packages (from selenium>=4.9.0->undetected-chromedriver) (4.10.0)\n",
            "Requirement already satisfied: charset-normalizer<4,>=2 in /usr/local/lib/python3.10/dist-packages (from requests->undetected-chromedriver) (3.3.2)\n",
            "Requirement already satisfied: idna<4,>=2.5 in /usr/local/lib/python3.10/dist-packages (from requests->undetected-chromedriver) (3.6)\n",
            "Requirement already satisfied: attrs>=20.1.0 in /usr/local/lib/python3.10/dist-packages (from trio~=0.17->selenium>=4.9.0->undetected-chromedriver) (23.2.0)\n",
            "Requirement already satisfied: sortedcontainers in /usr/local/lib/python3.10/dist-packages (from trio~=0.17->selenium>=4.9.0->undetected-chromedriver) (2.4.0)\n",
            "Collecting outcome (from trio~=0.17->selenium>=4.9.0->undetected-chromedriver)\n",
            "  Downloading outcome-1.3.0.post0-py2.py3-none-any.whl (10 kB)\n",
            "Requirement already satisfied: sniffio>=1.3.0 in /usr/local/lib/python3.10/dist-packages (from trio~=0.17->selenium>=4.9.0->undetected-chromedriver) (1.3.1)\n",
            "Requirement already satisfied: exceptiongroup in /usr/local/lib/python3.10/dist-packages (from trio~=0.17->selenium>=4.9.0->undetected-chromedriver) (1.2.0)\n",
            "Collecting wsproto>=0.14 (from trio-websocket~=0.9->selenium>=4.9.0->undetected-chromedriver)\n",
            "  Downloading wsproto-1.2.0-py3-none-any.whl (24 kB)\n",
            "Requirement already satisfied: pysocks!=1.5.7,<2.0,>=1.5.6 in /usr/local/lib/python3.10/dist-packages (from urllib3[socks]<3,>=1.26->selenium>=4.9.0->undetected-chromedriver) (1.7.1)\n",
            "Collecting h11<1,>=0.9.0 (from wsproto>=0.14->trio-websocket~=0.9->selenium>=4.9.0->undetected-chromedriver)\n",
            "  Downloading h11-0.14.0-py3-none-any.whl (58 kB)\n",
            "\u001b[2K     \u001b[90m━━━━━━━━━━━━━━━━━━━━━━━━━━━━━━━━━━━━━━━━\u001b[0m \u001b[32m58.3/58.3 kB\u001b[0m \u001b[31m5.0 MB/s\u001b[0m eta \u001b[36m0:00:00\u001b[0m\n",
            "\u001b[?25hBuilding wheels for collected packages: undetected-chromedriver\n",
            "  Building wheel for undetected-chromedriver (setup.py) ... \u001b[?25l\u001b[?25hdone\n",
            "  Created wheel for undetected-chromedriver: filename=undetected_chromedriver-3.5.5-py3-none-any.whl size=47048 sha256=eeb0808f699805efbc133ad3be2926a3f2d222bab719ea37145c40371e458574\n",
            "  Stored in directory: /root/.cache/pip/wheels/cf/a1/db/e1275b6f7259aacd6b045f8bfcb1fcbc93827a3916ba55d5b7\n",
            "Successfully built undetected-chromedriver\n",
            "Installing collected packages: websockets, outcome, h11, wsproto, trio, trio-websocket, selenium, undetected-chromedriver\n",
            "Successfully installed h11-0.14.0 outcome-1.3.0.post0 selenium-4.18.1 trio-0.24.0 trio-websocket-0.11.1 undetected-chromedriver-3.5.5 websockets-12.0 wsproto-1.2.0\n"
          ]
        }
      ],
      "source": [
        "!pip install undetected-chromedriver"
      ]
    },
    {
      "cell_type": "code",
      "source": [
        "!wget https://dl.google.com/linux/direct/google-chrome-stable_current_amd64.deb"
      ],
      "metadata": {
        "colab": {
          "base_uri": "https://localhost:8080/"
        },
        "id": "bCTVW4UHHd9c",
        "outputId": "efd60253-ff8f-45f1-fcaa-fb03efa11011"
      },
      "execution_count": null,
      "outputs": [
        {
          "output_type": "stream",
          "name": "stdout",
          "text": [
            "--2024-03-16 11:56:41--  https://dl.google.com/linux/direct/google-chrome-stable_current_amd64.deb\n",
            "Resolving dl.google.com (dl.google.com)... 142.251.171.93, 142.251.171.136, 142.251.171.190, ...\n",
            "Connecting to dl.google.com (dl.google.com)|142.251.171.93|:443... connected.\n",
            "HTTP request sent, awaiting response... 200 OK\n",
            "Length: 106053828 (101M) [application/x-debian-package]\n",
            "Saving to: ‘google-chrome-stable_current_amd64.deb’\n",
            "\n",
            "google-chrome-stabl 100%[===================>] 101.14M   278MB/s    in 0.4s    \n",
            "\n",
            "2024-03-16 11:56:42 (278 MB/s) - ‘google-chrome-stable_current_amd64.deb’ saved [106053828/106053828]\n",
            "\n"
          ]
        }
      ]
    },
    {
      "cell_type": "code",
      "source": [
        "!dpkg -i google-chrome-stable_current_amd64.deb"
      ],
      "metadata": {
        "colab": {
          "base_uri": "https://localhost:8080/"
        },
        "id": "4jvkPbSdHz6H",
        "outputId": "f378fbd6-0f4d-4eaa-b6cf-1bf33d64018b"
      },
      "execution_count": null,
      "outputs": [
        {
          "output_type": "stream",
          "name": "stdout",
          "text": [
            "Selecting previously unselected package google-chrome-stable.\n",
            "(Reading database ... 121752 files and directories currently installed.)\n",
            "Preparing to unpack google-chrome-stable_current_amd64.deb ...\n",
            "Unpacking google-chrome-stable (122.0.6261.128-1) ...\n",
            "\u001b[1mdpkg:\u001b[0m dependency problems prevent configuration of google-chrome-stable:\n",
            " google-chrome-stable depends on libu2f-udev; however:\n",
            "  Package libu2f-udev is not installed.\n",
            " google-chrome-stable depends on libvulkan1; however:\n",
            "  Package libvulkan1 is not installed.\n",
            "\n",
            "\u001b[1mdpkg:\u001b[0m error processing package google-chrome-stable (--install):\n",
            " dependency problems - leaving unconfigured\n",
            "Processing triggers for man-db (2.10.2-1) ...\n",
            "Errors were encountered while processing:\n",
            " google-chrome-stable\n"
          ]
        }
      ]
    },
    {
      "cell_type": "code",
      "source": [
        "from selenium.webdriver.common.by import By\n",
        "import pandas as pd"
      ],
      "metadata": {
        "id": "fCwN35oHI3bO"
      },
      "execution_count": null,
      "outputs": []
    },
    {
      "cell_type": "code",
      "source": [
        "import undetected_chromedriver as uc\n",
        "driver = uc.Chrome(headless=True,use_subprocess=False)\n",
        "driver.get('https://www.funkypanther.co.uk/charleston-primary-school')\n",
        "driver.save_screenshot('test.png')"
      ],
      "metadata": {
        "colab": {
          "base_uri": "https://localhost:8080/"
        },
        "id": "H5GdvT_KGm9w",
        "outputId": "f2c41c6c-be95-4f03-b246-4f942401fc59"
      },
      "execution_count": null,
      "outputs": [
        {
          "output_type": "execute_result",
          "data": {
            "text/plain": [
              "True"
            ]
          },
          "metadata": {},
          "execution_count": 6
        }
      ]
    },
    {
      "cell_type": "code",
      "source": [
        "item_name_elements = driver.find_elements(By.CSS_SELECTOR, '[data-hook=\"product-item-name\"]')\n",
        "price_elements = driver.find_elements(By.CSS_SELECTOR, 'span[data-hook=\"product-item-price-to-pay\"]')\n",
        "image_elements = driver.find_elements(By.CSS_SELECTOR, \"wow-image > img\")"
      ],
      "metadata": {
        "id": "oHZ4tnglHbtV"
      },
      "execution_count": null,
      "outputs": []
    },
    {
      "cell_type": "code",
      "source": [
        "item_names = [item_name_element.get_attribute('innerHTML') for item_name_element in item_name_elements]\n",
        "prices = [price_element.get_attribute('innerHTML') for price_element in price_elements]\n",
        "# images = [image_element.get_attribute(\"src\") for image_element in image_elements]"
      ],
      "metadata": {
        "id": "WE6yyU8WKT-O"
      },
      "execution_count": null,
      "outputs": []
    },
    {
      "cell_type": "code",
      "source": [
        "images = [image_element.get_attribute(\"src\") for image_element in image_elements]"
      ],
      "metadata": {
        "id": "YletRKJEMFC8"
      },
      "execution_count": null,
      "outputs": []
    },
    {
      "cell_type": "code",
      "source": [
        "images"
      ],
      "metadata": {
        "colab": {
          "base_uri": "https://localhost:8080/"
        },
        "id": "bzE_0OgsMG8Q",
        "outputId": "899acb36-1ae7-42a1-a6f5-890a7d49eda2"
      },
      "execution_count": null,
      "outputs": [
        {
          "output_type": "execute_result",
          "data": {
            "text/plain": [
              "['https://static.wixstatic.com/media/e316f544f9094143b9eac01f1f19e697.png/v1/fill/w_39,h_39,al_c,q_85,usm_0.66_1.00_0.01,enc_auto/e316f544f9094143b9eac01f1f19e697.png',\n",
              " 'https://static.wixstatic.com/media/9c4b521dd2404cd5a05ed6115f3a0dc8.png/v1/fill/w_39,h_39,al_c,q_85,usm_0.66_1.00_0.01,enc_auto/9c4b521dd2404cd5a05ed6115f3a0dc8.png',\n",
              " 'https://static.wixstatic.com/media/fb5d18fdfff64a56a7e136d2016a1b7b.png/v1/fill/w_39,h_39,al_c,q_85,usm_0.66_1.00_0.01,enc_auto/fb5d18fdfff64a56a7e136d2016a1b7b.png',\n",
              " 'https://static.wixstatic.com/media/b5577e_65e342c180d9494296c3416460d59950~mv2_d_3400_1880_s_2.png/v1/fill/w_188,h_105,al_c,q_85,usm_0.66_1.00_0.01,enc_auto/logo_transparent_background.png',\n",
              " 'https://static.wixstatic.com/media/b5577e_ca004d8a7205470b8174181ffe72449b~mv2.png/v1/fill/w_159,h_225,al_c,q_85,usm_0.66_1.00_0.01,enc_auto/b5577e_ca004d8a7205470b8174181ffe72449b~mv2.png',\n",
              " 'https://static.wixstatic.com/media/b5577e_b28854bbeaa249cea61ae002ced630dd~mv2.jpeg/v1/fill/w_159,h_225,al_c,q_80,usm_0.66_1.00_0.01,enc_auto/b5577e_b28854bbeaa249cea61ae002ced630dd~mv2.jpeg',\n",
              " 'https://static.wixstatic.com/media/b5577e_63d49cb4d1724d93ade2dac195e701a1~mv2.jpg/v1/fill/w_159,h_225,al_c,q_80,usm_0.66_1.00_0.01,enc_auto/b5577e_63d49cb4d1724d93ade2dac195e701a1~mv2.jpg',\n",
              " 'https://static.wixstatic.com/media/b5577e_6c4f5202b0494c6280c2704947c79e87~mv2.png/v1/fill/w_159,h_225,al_c,q_85,usm_0.66_1.00_0.01,enc_auto/b5577e_6c4f5202b0494c6280c2704947c79e87~mv2.png',\n",
              " 'https://static.wixstatic.com/media/b5577e_ca004d8a7205470b8174181ffe72449b~mv2.png/v1/fill/w_159,h_225,al_c,q_85,usm_0.66_1.00_0.01,enc_auto/b5577e_ca004d8a7205470b8174181ffe72449b~mv2.png',\n",
              " 'https://static.wixstatic.com/media/b5577e_e58b33a945ba495f92c56c0573376650~mv2.png/v1/fill/w_159,h_225,al_c,q_85,usm_0.66_1.00_0.01,enc_auto/b5577e_e58b33a945ba495f92c56c0573376650~mv2.png',\n",
              " 'https://static.wixstatic.com/media/b5577e_c679ba55446e4daba893ca459d997545~mv2.jpg/v1/fill/w_159,h_225,al_c,q_80,usm_0.66_1.00_0.01,enc_auto/b5577e_c679ba55446e4daba893ca459d997545~mv2.jpg',\n",
              " 'https://static.wixstatic.com/media/b5577e_77c3736f6e444f9da42e4904fa99afc1~mv2.jpg/v1/fill/w_159,h_225,al_c,q_80,usm_0.66_1.00_0.01,enc_auto/b5577e_77c3736f6e444f9da42e4904fa99afc1~mv2.jpg',\n",
              " 'https://static.wixstatic.com/media/b5577e_fafb2bbd165043a48d848f3e7f3b02e3~mv2.png/v1/fill/w_159,h_225,al_c,q_85,usm_0.66_1.00_0.01,enc_auto/b5577e_fafb2bbd165043a48d848f3e7f3b02e3~mv2.png',\n",
              " 'https://static.wixstatic.com/media/b5577e_fb3866f6a323499c9554b5d54ec05431~mv2.jpeg/v1/fill/w_159,h_225,al_c,q_80,usm_0.66_1.00_0.01,enc_auto/b5577e_fb3866f6a323499c9554b5d54ec05431~mv2.jpeg',\n",
              " 'https://static.wixstatic.com/media/b5577e_7d91152d893e4893b3588c8cad4ac171~mv2.jpeg/v1/fill/w_159,h_225,al_c,q_80,usm_0.66_1.00_0.01,enc_auto/b5577e_7d91152d893e4893b3588c8cad4ac171~mv2.jpeg',\n",
              " 'https://static.wixstatic.com/media/b5577e_d5d8883b419f415b9c2ba9733e7a17d9~mv2.png/v1/fill/w_159,h_225,al_c,q_85,usm_0.66_1.00_0.01,enc_auto/b5577e_d5d8883b419f415b9c2ba9733e7a17d9~mv2.png',\n",
              " 'https://static.wixstatic.com/media/b5577e_16c3a156ebf14b7f9e3d07cd6f75466a~mv2.jpg/v1/fill/w_159,h_184,al_c,q_80,usm_0.66_1.00_0.01,blur_2,enc_auto/b5577e_16c3a156ebf14b7f9e3d07cd6f75466a~mv2.jpg',\n",
              " 'https://static.wixstatic.com/media/b5577e_f7425e4388004299a1514e3194914193~mv2.jpg/v1/fill/w_107,h_152,al_c,q_80,usm_0.66_1.00_0.01,blur_2,enc_auto/b5577e_f7425e4388004299a1514e3194914193~mv2.jpg',\n",
              " 'https://static.wixstatic.com/media/b5577e_88fefb6c11954f9eabb3877b22c2b152~mv2.jpg/v1/fill/w_100,h_166,al_c,q_80,usm_0.66_1.00_0.01,blur_2,enc_auto/b5577e_88fefb6c11954f9eabb3877b22c2b152~mv2.jpg',\n",
              " 'https://static.wixstatic.com/media/b5577e_fa4b8ff0494448f886272d74b32189ff~mv2.jpg/v1/fill/w_101,h_166,al_c,q_80,usm_0.66_1.00_0.01,blur_2,enc_auto/b5577e_fa4b8ff0494448f886272d74b32189ff~mv2.jpg',\n",
              " 'https://static.wixstatic.com/media/b5577e_88fefb6c11954f9eabb3877b22c2b152~mv2.jpg/v1/fill/w_100,h_166,al_c,q_80,usm_0.66_1.00_0.01,blur_2,enc_auto/b5577e_88fefb6c11954f9eabb3877b22c2b152~mv2.jpg',\n",
              " 'https://static.wixstatic.com/media/b5577e_fa4b8ff0494448f886272d74b32189ff~mv2.jpg/v1/fill/w_101,h_166,al_c,q_80,usm_0.66_1.00_0.01,blur_2,enc_auto/b5577e_fa4b8ff0494448f886272d74b32189ff~mv2.jpg']"
            ]
          },
          "metadata": {},
          "execution_count": 41
        }
      ]
    },
    {
      "cell_type": "code",
      "source": [
        "pd.DataFrame({\n",
        "    \"item_name\": item_names,\n",
        "    \"prices\": prices,\n",
        "    # \"images\": images\n",
        "})"
      ],
      "metadata": {
        "colab": {
          "base_uri": "https://localhost:8080/",
          "height": 551
        },
        "id": "vJc96-lMJ33T",
        "outputId": "f55d20ea-3286-473e-86a4-a230a7729bc3"
      },
      "execution_count": null,
      "outputs": [
        {
          "output_type": "execute_result",
          "data": {
            "text/plain": [
              "                                 item_name  prices\n",
              "0                    Charleston AWD Jumper  £11.00\n",
              "1                  Charleston AWD Cardigan  £13.00\n",
              "2                 P7 Charleston AWD Jumper  £11.00\n",
              "3          Charleston AWD White Polo Shirt   £8.50\n",
              "4                Charleston Russell Jumper  £13.00\n",
              "5              Charleston Russell Cardigan  £15.00\n",
              "6           P7 Charleston Russell Cardigan  £15.00\n",
              "7             P7 Charleston Russell Jumper  £13.00\n",
              "8      Charleston White Russell Polo Shirt  £10.00\n",
              "9                        Charleston Fleece  £15.00\n",
              "10  Result Core Micro Fleeced Lined Jacket  £20.00\n",
              "11                      Charleston Gym Bag   £6.00\n",
              "12           Kids Reflective Bobble Beanie   £6.00\n",
              "13                            Own Garments   £6.00\n",
              "14                     Kids Stickers (x30)   £3.00\n",
              "15               Iron On Name Labels (x30)   £6.00"
            ],
            "text/html": [
              "\n",
              "  <div id=\"df-5f54dd89-81cf-4d06-9a86-a04742bfb6fc\" class=\"colab-df-container\">\n",
              "    <div>\n",
              "<style scoped>\n",
              "    .dataframe tbody tr th:only-of-type {\n",
              "        vertical-align: middle;\n",
              "    }\n",
              "\n",
              "    .dataframe tbody tr th {\n",
              "        vertical-align: top;\n",
              "    }\n",
              "\n",
              "    .dataframe thead th {\n",
              "        text-align: right;\n",
              "    }\n",
              "</style>\n",
              "<table border=\"1\" class=\"dataframe\">\n",
              "  <thead>\n",
              "    <tr style=\"text-align: right;\">\n",
              "      <th></th>\n",
              "      <th>item_name</th>\n",
              "      <th>prices</th>\n",
              "    </tr>\n",
              "  </thead>\n",
              "  <tbody>\n",
              "    <tr>\n",
              "      <th>0</th>\n",
              "      <td>Charleston AWD Jumper</td>\n",
              "      <td>£11.00</td>\n",
              "    </tr>\n",
              "    <tr>\n",
              "      <th>1</th>\n",
              "      <td>Charleston AWD Cardigan</td>\n",
              "      <td>£13.00</td>\n",
              "    </tr>\n",
              "    <tr>\n",
              "      <th>2</th>\n",
              "      <td>P7 Charleston AWD Jumper</td>\n",
              "      <td>£11.00</td>\n",
              "    </tr>\n",
              "    <tr>\n",
              "      <th>3</th>\n",
              "      <td>Charleston AWD White Polo Shirt</td>\n",
              "      <td>£8.50</td>\n",
              "    </tr>\n",
              "    <tr>\n",
              "      <th>4</th>\n",
              "      <td>Charleston Russell Jumper</td>\n",
              "      <td>£13.00</td>\n",
              "    </tr>\n",
              "    <tr>\n",
              "      <th>5</th>\n",
              "      <td>Charleston Russell Cardigan</td>\n",
              "      <td>£15.00</td>\n",
              "    </tr>\n",
              "    <tr>\n",
              "      <th>6</th>\n",
              "      <td>P7 Charleston Russell Cardigan</td>\n",
              "      <td>£15.00</td>\n",
              "    </tr>\n",
              "    <tr>\n",
              "      <th>7</th>\n",
              "      <td>P7 Charleston Russell Jumper</td>\n",
              "      <td>£13.00</td>\n",
              "    </tr>\n",
              "    <tr>\n",
              "      <th>8</th>\n",
              "      <td>Charleston White Russell Polo Shirt</td>\n",
              "      <td>£10.00</td>\n",
              "    </tr>\n",
              "    <tr>\n",
              "      <th>9</th>\n",
              "      <td>Charleston Fleece</td>\n",
              "      <td>£15.00</td>\n",
              "    </tr>\n",
              "    <tr>\n",
              "      <th>10</th>\n",
              "      <td>Result Core Micro Fleeced Lined Jacket</td>\n",
              "      <td>£20.00</td>\n",
              "    </tr>\n",
              "    <tr>\n",
              "      <th>11</th>\n",
              "      <td>Charleston Gym Bag</td>\n",
              "      <td>£6.00</td>\n",
              "    </tr>\n",
              "    <tr>\n",
              "      <th>12</th>\n",
              "      <td>Kids Reflective Bobble Beanie</td>\n",
              "      <td>£6.00</td>\n",
              "    </tr>\n",
              "    <tr>\n",
              "      <th>13</th>\n",
              "      <td>Own Garments</td>\n",
              "      <td>£6.00</td>\n",
              "    </tr>\n",
              "    <tr>\n",
              "      <th>14</th>\n",
              "      <td>Kids Stickers (x30)</td>\n",
              "      <td>£3.00</td>\n",
              "    </tr>\n",
              "    <tr>\n",
              "      <th>15</th>\n",
              "      <td>Iron On Name Labels (x30)</td>\n",
              "      <td>£6.00</td>\n",
              "    </tr>\n",
              "  </tbody>\n",
              "</table>\n",
              "</div>\n",
              "    <div class=\"colab-df-buttons\">\n",
              "\n",
              "  <div class=\"colab-df-container\">\n",
              "    <button class=\"colab-df-convert\" onclick=\"convertToInteractive('df-5f54dd89-81cf-4d06-9a86-a04742bfb6fc')\"\n",
              "            title=\"Convert this dataframe to an interactive table.\"\n",
              "            style=\"display:none;\">\n",
              "\n",
              "  <svg xmlns=\"http://www.w3.org/2000/svg\" height=\"24px\" viewBox=\"0 -960 960 960\">\n",
              "    <path d=\"M120-120v-720h720v720H120Zm60-500h600v-160H180v160Zm220 220h160v-160H400v160Zm0 220h160v-160H400v160ZM180-400h160v-160H180v160Zm440 0h160v-160H620v160ZM180-180h160v-160H180v160Zm440 0h160v-160H620v160Z\"/>\n",
              "  </svg>\n",
              "    </button>\n",
              "\n",
              "  <style>\n",
              "    .colab-df-container {\n",
              "      display:flex;\n",
              "      gap: 12px;\n",
              "    }\n",
              "\n",
              "    .colab-df-convert {\n",
              "      background-color: #E8F0FE;\n",
              "      border: none;\n",
              "      border-radius: 50%;\n",
              "      cursor: pointer;\n",
              "      display: none;\n",
              "      fill: #1967D2;\n",
              "      height: 32px;\n",
              "      padding: 0 0 0 0;\n",
              "      width: 32px;\n",
              "    }\n",
              "\n",
              "    .colab-df-convert:hover {\n",
              "      background-color: #E2EBFA;\n",
              "      box-shadow: 0px 1px 2px rgba(60, 64, 67, 0.3), 0px 1px 3px 1px rgba(60, 64, 67, 0.15);\n",
              "      fill: #174EA6;\n",
              "    }\n",
              "\n",
              "    .colab-df-buttons div {\n",
              "      margin-bottom: 4px;\n",
              "    }\n",
              "\n",
              "    [theme=dark] .colab-df-convert {\n",
              "      background-color: #3B4455;\n",
              "      fill: #D2E3FC;\n",
              "    }\n",
              "\n",
              "    [theme=dark] .colab-df-convert:hover {\n",
              "      background-color: #434B5C;\n",
              "      box-shadow: 0px 1px 3px 1px rgba(0, 0, 0, 0.15);\n",
              "      filter: drop-shadow(0px 1px 2px rgba(0, 0, 0, 0.3));\n",
              "      fill: #FFFFFF;\n",
              "    }\n",
              "  </style>\n",
              "\n",
              "    <script>\n",
              "      const buttonEl =\n",
              "        document.querySelector('#df-5f54dd89-81cf-4d06-9a86-a04742bfb6fc button.colab-df-convert');\n",
              "      buttonEl.style.display =\n",
              "        google.colab.kernel.accessAllowed ? 'block' : 'none';\n",
              "\n",
              "      async function convertToInteractive(key) {\n",
              "        const element = document.querySelector('#df-5f54dd89-81cf-4d06-9a86-a04742bfb6fc');\n",
              "        const dataTable =\n",
              "          await google.colab.kernel.invokeFunction('convertToInteractive',\n",
              "                                                    [key], {});\n",
              "        if (!dataTable) return;\n",
              "\n",
              "        const docLinkHtml = 'Like what you see? Visit the ' +\n",
              "          '<a target=\"_blank\" href=https://colab.research.google.com/notebooks/data_table.ipynb>data table notebook</a>'\n",
              "          + ' to learn more about interactive tables.';\n",
              "        element.innerHTML = '';\n",
              "        dataTable['output_type'] = 'display_data';\n",
              "        await google.colab.output.renderOutput(dataTable, element);\n",
              "        const docLink = document.createElement('div');\n",
              "        docLink.innerHTML = docLinkHtml;\n",
              "        element.appendChild(docLink);\n",
              "      }\n",
              "    </script>\n",
              "  </div>\n",
              "\n",
              "\n",
              "<div id=\"df-52cb353b-05f4-49b7-a341-83b0d6aac84e\">\n",
              "  <button class=\"colab-df-quickchart\" onclick=\"quickchart('df-52cb353b-05f4-49b7-a341-83b0d6aac84e')\"\n",
              "            title=\"Suggest charts\"\n",
              "            style=\"display:none;\">\n",
              "\n",
              "<svg xmlns=\"http://www.w3.org/2000/svg\" height=\"24px\"viewBox=\"0 0 24 24\"\n",
              "     width=\"24px\">\n",
              "    <g>\n",
              "        <path d=\"M19 3H5c-1.1 0-2 .9-2 2v14c0 1.1.9 2 2 2h14c1.1 0 2-.9 2-2V5c0-1.1-.9-2-2-2zM9 17H7v-7h2v7zm4 0h-2V7h2v10zm4 0h-2v-4h2v4z\"/>\n",
              "    </g>\n",
              "</svg>\n",
              "  </button>\n",
              "\n",
              "<style>\n",
              "  .colab-df-quickchart {\n",
              "      --bg-color: #E8F0FE;\n",
              "      --fill-color: #1967D2;\n",
              "      --hover-bg-color: #E2EBFA;\n",
              "      --hover-fill-color: #174EA6;\n",
              "      --disabled-fill-color: #AAA;\n",
              "      --disabled-bg-color: #DDD;\n",
              "  }\n",
              "\n",
              "  [theme=dark] .colab-df-quickchart {\n",
              "      --bg-color: #3B4455;\n",
              "      --fill-color: #D2E3FC;\n",
              "      --hover-bg-color: #434B5C;\n",
              "      --hover-fill-color: #FFFFFF;\n",
              "      --disabled-bg-color: #3B4455;\n",
              "      --disabled-fill-color: #666;\n",
              "  }\n",
              "\n",
              "  .colab-df-quickchart {\n",
              "    background-color: var(--bg-color);\n",
              "    border: none;\n",
              "    border-radius: 50%;\n",
              "    cursor: pointer;\n",
              "    display: none;\n",
              "    fill: var(--fill-color);\n",
              "    height: 32px;\n",
              "    padding: 0;\n",
              "    width: 32px;\n",
              "  }\n",
              "\n",
              "  .colab-df-quickchart:hover {\n",
              "    background-color: var(--hover-bg-color);\n",
              "    box-shadow: 0 1px 2px rgba(60, 64, 67, 0.3), 0 1px 3px 1px rgba(60, 64, 67, 0.15);\n",
              "    fill: var(--button-hover-fill-color);\n",
              "  }\n",
              "\n",
              "  .colab-df-quickchart-complete:disabled,\n",
              "  .colab-df-quickchart-complete:disabled:hover {\n",
              "    background-color: var(--disabled-bg-color);\n",
              "    fill: var(--disabled-fill-color);\n",
              "    box-shadow: none;\n",
              "  }\n",
              "\n",
              "  .colab-df-spinner {\n",
              "    border: 2px solid var(--fill-color);\n",
              "    border-color: transparent;\n",
              "    border-bottom-color: var(--fill-color);\n",
              "    animation:\n",
              "      spin 1s steps(1) infinite;\n",
              "  }\n",
              "\n",
              "  @keyframes spin {\n",
              "    0% {\n",
              "      border-color: transparent;\n",
              "      border-bottom-color: var(--fill-color);\n",
              "      border-left-color: var(--fill-color);\n",
              "    }\n",
              "    20% {\n",
              "      border-color: transparent;\n",
              "      border-left-color: var(--fill-color);\n",
              "      border-top-color: var(--fill-color);\n",
              "    }\n",
              "    30% {\n",
              "      border-color: transparent;\n",
              "      border-left-color: var(--fill-color);\n",
              "      border-top-color: var(--fill-color);\n",
              "      border-right-color: var(--fill-color);\n",
              "    }\n",
              "    40% {\n",
              "      border-color: transparent;\n",
              "      border-right-color: var(--fill-color);\n",
              "      border-top-color: var(--fill-color);\n",
              "    }\n",
              "    60% {\n",
              "      border-color: transparent;\n",
              "      border-right-color: var(--fill-color);\n",
              "    }\n",
              "    80% {\n",
              "      border-color: transparent;\n",
              "      border-right-color: var(--fill-color);\n",
              "      border-bottom-color: var(--fill-color);\n",
              "    }\n",
              "    90% {\n",
              "      border-color: transparent;\n",
              "      border-bottom-color: var(--fill-color);\n",
              "    }\n",
              "  }\n",
              "</style>\n",
              "\n",
              "  <script>\n",
              "    async function quickchart(key) {\n",
              "      const quickchartButtonEl =\n",
              "        document.querySelector('#' + key + ' button');\n",
              "      quickchartButtonEl.disabled = true;  // To prevent multiple clicks.\n",
              "      quickchartButtonEl.classList.add('colab-df-spinner');\n",
              "      try {\n",
              "        const charts = await google.colab.kernel.invokeFunction(\n",
              "            'suggestCharts', [key], {});\n",
              "      } catch (error) {\n",
              "        console.error('Error during call to suggestCharts:', error);\n",
              "      }\n",
              "      quickchartButtonEl.classList.remove('colab-df-spinner');\n",
              "      quickchartButtonEl.classList.add('colab-df-quickchart-complete');\n",
              "    }\n",
              "    (() => {\n",
              "      let quickchartButtonEl =\n",
              "        document.querySelector('#df-52cb353b-05f4-49b7-a341-83b0d6aac84e button');\n",
              "      quickchartButtonEl.style.display =\n",
              "        google.colab.kernel.accessAllowed ? 'block' : 'none';\n",
              "    })();\n",
              "  </script>\n",
              "</div>\n",
              "    </div>\n",
              "  </div>\n"
            ],
            "application/vnd.google.colaboratory.intrinsic+json": {
              "type": "dataframe",
              "summary": "{\n  \"name\": \"})\",\n  \"rows\": 16,\n  \"fields\": [\n    {\n      \"column\": \"item_name\",\n      \"properties\": {\n        \"dtype\": \"string\",\n        \"num_unique_values\": 16,\n        \"samples\": [\n          \"Charleston AWD Jumper\",\n          \"Charleston AWD Cardigan\",\n          \"Charleston Russell Cardigan\"\n        ],\n        \"semantic_type\": \"\",\n        \"description\": \"\"\n      }\n    },\n    {\n      \"column\": \"prices\",\n      \"properties\": {\n        \"dtype\": \"string\",\n        \"num_unique_values\": 8,\n        \"samples\": [\n          \"\\u00a313.00\",\n          \"\\u00a320.00\",\n          \"\\u00a311.00\"\n        ],\n        \"semantic_type\": \"\",\n        \"description\": \"\"\n      }\n    }\n  ]\n}"
            }
          },
          "metadata": {},
          "execution_count": 39
        }
      ]
    },
    {
      "cell_type": "code",
      "source": [
        "for price in prices:\n",
        "    print(price.get_attribute('innerHTML'))"
      ],
      "metadata": {
        "colab": {
          "base_uri": "https://localhost:8080/"
        },
        "id": "5hlhYV72JTKJ",
        "outputId": "d84a3333-9f7a-49ca-969a-68c2588d0e59"
      },
      "execution_count": null,
      "outputs": [
        {
          "output_type": "stream",
          "name": "stdout",
          "text": [
            "£11.00\n",
            "£13.00\n",
            "£11.00\n",
            "£8.50\n",
            "£13.00\n",
            "£15.00\n",
            "£15.00\n",
            "£13.00\n",
            "£10.00\n",
            "£15.00\n",
            "£20.00\n",
            "£6.00\n",
            "£6.00\n",
            "£6.00\n",
            "£3.00\n",
            "£6.00\n"
          ]
        }
      ]
    },
    {
      "cell_type": "code",
      "source": [
        "for item_name in item_names:\n",
        "    print(item_name.get_attribute('innerHTML'))"
      ],
      "metadata": {
        "colab": {
          "base_uri": "https://localhost:8080/"
        },
        "id": "JHChK0onI5Gd",
        "outputId": "bf109f75-c4cb-47c2-9cc3-4a923911a093"
      },
      "execution_count": null,
      "outputs": [
        {
          "output_type": "stream",
          "name": "stdout",
          "text": [
            "Charleston AWD Jumper\n",
            "Charleston AWD Cardigan\n",
            "P7 Charleston AWD Jumper\n",
            "Charleston AWD White Polo Shirt\n",
            "Charleston Russell Jumper\n",
            "Charleston Russell Cardigan\n",
            "P7 Charleston Russell Cardigan\n",
            "P7 Charleston Russell Jumper\n",
            "Charleston White Russell Polo Shirt\n",
            "Charleston Fleece\n",
            "Result Core Micro Fleeced Lined Jacket\n",
            "Charleston Gym Bag\n",
            "Kids Reflective Bobble Beanie\n",
            "Own Garments\n",
            "Kids Stickers (x30)\n",
            "Iron On Name Labels (x30)\n"
          ]
        }
      ]
    },
    {
      "cell_type": "code",
      "source": [],
      "metadata": {
        "id": "wXsEobc4JIt4"
      },
      "execution_count": null,
      "outputs": []
    }
  ]
}