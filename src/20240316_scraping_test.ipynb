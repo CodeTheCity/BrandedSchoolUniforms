{
  "cells": [
    {
      "cell_type": "code",
      "execution_count": 1,
      "metadata": {
        "colab": {
          "base_uri": "https://localhost:8080/"
        },
        "id": "YVZ-KtgjGiow",
        "outputId": "8280c66d-c3a5-4d0b-df62-1e70003dd071"
      },
      "outputs": [
        {
          "name": "stdout",
          "output_type": "stream",
          "text": [
            "Collecting undetected-chromedriver\n",
            "  Downloading undetected-chromedriver-3.5.5.tar.gz (65 kB)\n",
            "\u001b[2K     \u001b[90m━━━━━━━━━━━━━━━━━━━━━━━━━━━━━━━━━━━━━━━━\u001b[0m \u001b[32m65.4/65.4 kB\u001b[0m \u001b[31m2.3 MB/s\u001b[0m eta \u001b[36m0:00:00\u001b[0m\n",
            "\u001b[?25h  Preparing metadata (setup.py) ... \u001b[?25ldone\n",
            "\u001b[?25hCollecting selenium>=4.9.0 (from undetected-chromedriver)\n",
            "  Obtaining dependency information for selenium>=4.9.0 from https://files.pythonhosted.org/packages/3f/fd/c2e7bb547b5b96c7bd536b4a80c4564b7ce5cd38d10095fbba8648996ab9/selenium-4.18.1-py3-none-any.whl.metadata\n",
            "  Downloading selenium-4.18.1-py3-none-any.whl.metadata (6.9 kB)\n",
            "Requirement already satisfied: requests in /Users/r04mr23/anaconda3/lib/python3.11/site-packages (from undetected-chromedriver) (2.31.0)\n",
            "Collecting websockets (from undetected-chromedriver)\n",
            "  Obtaining dependency information for websockets from https://files.pythonhosted.org/packages/95/aa/75fa3b893142d6d98a48cb461169bd268141f2da8bfca97392d6462a02eb/websockets-12.0-cp311-cp311-macosx_11_0_arm64.whl.metadata\n",
            "  Using cached websockets-12.0-cp311-cp311-macosx_11_0_arm64.whl.metadata (6.6 kB)\n",
            "Requirement already satisfied: urllib3[socks]<3,>=1.26 in /Users/r04mr23/anaconda3/lib/python3.11/site-packages (from selenium>=4.9.0->undetected-chromedriver) (1.26.18)\n",
            "Collecting trio~=0.17 (from selenium>=4.9.0->undetected-chromedriver)\n",
            "  Obtaining dependency information for trio~=0.17 from https://files.pythonhosted.org/packages/14/fb/9299cf74953f473a15accfdbe2c15218e766bae8c796f2567c83bae03e98/trio-0.24.0-py3-none-any.whl.metadata\n",
            "  Using cached trio-0.24.0-py3-none-any.whl.metadata (4.9 kB)\n",
            "Collecting trio-websocket~=0.9 (from selenium>=4.9.0->undetected-chromedriver)\n",
            "  Obtaining dependency information for trio-websocket~=0.9 from https://files.pythonhosted.org/packages/48/be/a9ae5f50cad5b6f85bd2574c2c923730098530096e170c1ce7452394d7aa/trio_websocket-0.11.1-py3-none-any.whl.metadata\n",
            "  Using cached trio_websocket-0.11.1-py3-none-any.whl.metadata (4.7 kB)\n",
            "Requirement already satisfied: certifi>=2021.10.8 in /Users/r04mr23/anaconda3/lib/python3.11/site-packages (from selenium>=4.9.0->undetected-chromedriver) (2023.11.17)\n",
            "Collecting typing_extensions>=4.9.0 (from selenium>=4.9.0->undetected-chromedriver)\n",
            "  Obtaining dependency information for typing_extensions>=4.9.0 from https://files.pythonhosted.org/packages/f9/de/dc04a3ea60b22624b51c703a84bbe0184abcd1d0b9bc8074b5d6b7ab90bb/typing_extensions-4.10.0-py3-none-any.whl.metadata\n",
            "  Downloading typing_extensions-4.10.0-py3-none-any.whl.metadata (3.0 kB)\n",
            "Requirement already satisfied: charset-normalizer<4,>=2 in /Users/r04mr23/anaconda3/lib/python3.11/site-packages (from requests->undetected-chromedriver) (2.0.4)\n",
            "Requirement already satisfied: idna<4,>=2.5 in /Users/r04mr23/anaconda3/lib/python3.11/site-packages (from requests->undetected-chromedriver) (3.4)\n",
            "Requirement already satisfied: attrs>=20.1.0 in /Users/r04mr23/anaconda3/lib/python3.11/site-packages (from trio~=0.17->selenium>=4.9.0->undetected-chromedriver) (23.1.0)\n",
            "Requirement already satisfied: sortedcontainers in /Users/r04mr23/anaconda3/lib/python3.11/site-packages (from trio~=0.17->selenium>=4.9.0->undetected-chromedriver) (2.4.0)\n",
            "Collecting outcome (from trio~=0.17->selenium>=4.9.0->undetected-chromedriver)\n",
            "  Obtaining dependency information for outcome from https://files.pythonhosted.org/packages/55/8b/5ab7257531a5d830fc8000c476e63c935488d74609b50f9384a643ec0a62/outcome-1.3.0.post0-py2.py3-none-any.whl.metadata\n",
            "  Using cached outcome-1.3.0.post0-py2.py3-none-any.whl.metadata (2.6 kB)\n",
            "Collecting sniffio>=1.3.0 (from trio~=0.17->selenium>=4.9.0->undetected-chromedriver)\n",
            "  Obtaining dependency information for sniffio>=1.3.0 from https://files.pythonhosted.org/packages/e9/44/75a9c9421471a6c4805dbf2356f7c181a29c1879239abab1ea2cc8f38b40/sniffio-1.3.1-py3-none-any.whl.metadata\n",
            "  Downloading sniffio-1.3.1-py3-none-any.whl.metadata (3.9 kB)\n",
            "Collecting wsproto>=0.14 (from trio-websocket~=0.9->selenium>=4.9.0->undetected-chromedriver)\n",
            "  Obtaining dependency information for wsproto>=0.14 from https://files.pythonhosted.org/packages/78/58/e860788190eba3bcce367f74d29c4675466ce8dddfba85f7827588416f01/wsproto-1.2.0-py3-none-any.whl.metadata\n",
            "  Downloading wsproto-1.2.0-py3-none-any.whl.metadata (5.6 kB)\n",
            "Requirement already satisfied: PySocks!=1.5.7,<2.0,>=1.5.6 in /Users/r04mr23/anaconda3/lib/python3.11/site-packages (from urllib3[socks]<3,>=1.26->selenium>=4.9.0->undetected-chromedriver) (1.7.1)\n",
            "Collecting h11<1,>=0.9.0 (from wsproto>=0.14->trio-websocket~=0.9->selenium>=4.9.0->undetected-chromedriver)\n",
            "  Obtaining dependency information for h11<1,>=0.9.0 from https://files.pythonhosted.org/packages/95/04/ff642e65ad6b90db43e668d70ffb6736436c7ce41fcc549f4e9472234127/h11-0.14.0-py3-none-any.whl.metadata\n",
            "  Downloading h11-0.14.0-py3-none-any.whl.metadata (8.2 kB)\n",
            "Downloading selenium-4.18.1-py3-none-any.whl (10.0 MB)\n",
            "\u001b[2K   \u001b[90m━━━━━━━━━━━━━━━━━━━━━━━━━━━━━━━━━━━━━━━━\u001b[0m \u001b[32m10.0/10.0 MB\u001b[0m \u001b[31m17.7 MB/s\u001b[0m eta \u001b[36m0:00:00\u001b[0m00:01\u001b[0m0:01\u001b[0m\n",
            "\u001b[?25hUsing cached websockets-12.0-cp311-cp311-macosx_11_0_arm64.whl (121 kB)\n",
            "Using cached trio-0.24.0-py3-none-any.whl (460 kB)\n",
            "Using cached trio_websocket-0.11.1-py3-none-any.whl (17 kB)\n",
            "Downloading typing_extensions-4.10.0-py3-none-any.whl (33 kB)\n",
            "Downloading sniffio-1.3.1-py3-none-any.whl (10 kB)\n",
            "Using cached wsproto-1.2.0-py3-none-any.whl (24 kB)\n",
            "Using cached outcome-1.3.0.post0-py2.py3-none-any.whl (10 kB)\n",
            "Using cached h11-0.14.0-py3-none-any.whl (58 kB)\n",
            "Building wheels for collected packages: undetected-chromedriver\n",
            "  Building wheel for undetected-chromedriver (setup.py) ... \u001b[?25ldone\n",
            "\u001b[?25h  Created wheel for undetected-chromedriver: filename=undetected_chromedriver-3.5.5-py3-none-any.whl size=47049 sha256=be863df3ce4a7ccafce402641c492bbc9a963bf7c0a49bfd313b93114579235b\n",
            "  Stored in directory: /Users/r04mr23/Library/Caches/pip/wheels/5c/b9/03/4b6e38f019d6170e8c25df2e1e362d7bdf9ff4012df2dc85c0\n",
            "Successfully built undetected-chromedriver\n",
            "Installing collected packages: websockets, typing_extensions, sniffio, outcome, h11, wsproto, trio, trio-websocket, selenium, undetected-chromedriver\n",
            "  Attempting uninstall: typing_extensions\n",
            "    Found existing installation: typing_extensions 4.7.1\n",
            "    Uninstalling typing_extensions-4.7.1:\n",
            "      Successfully uninstalled typing_extensions-4.7.1\n",
            "  Attempting uninstall: sniffio\n",
            "    Found existing installation: sniffio 1.2.0\n",
            "    Uninstalling sniffio-1.2.0:\n",
            "      Successfully uninstalled sniffio-1.2.0\n",
            "Successfully installed h11-0.14.0 outcome-1.3.0.post0 selenium-4.18.1 sniffio-1.3.1 trio-0.24.0 trio-websocket-0.11.1 typing_extensions-4.10.0 undetected-chromedriver-3.5.5 websockets-12.0 wsproto-1.2.0\n"
          ]
        }
      ],
      "source": [
        "!pip install undetected-chromedriver"
      ]
    },
    {
      "cell_type": "code",
      "execution_count": 7,
      "metadata": {
        "colab": {
          "base_uri": "https://localhost:8080/"
        },
        "id": "bCTVW4UHHd9c",
        "outputId": "efd60253-ff8f-45f1-fcaa-fb03efa11011"
      },
      "outputs": [],
      "source": [
        "# !wget https://dl.google.com/linux/direct/google-chrome-stable_current_amd64.deb"
      ]
    },
    {
      "cell_type": "code",
      "execution_count": 8,
      "metadata": {
        "colab": {
          "base_uri": "https://localhost:8080/"
        },
        "id": "4jvkPbSdHz6H",
        "outputId": "f378fbd6-0f4d-4eaa-b6cf-1bf33d64018b"
      },
      "outputs": [],
      "source": [
        "# !dpkg -i google-chrome-stable_current_amd64.deb"
      ]
    },
    {
      "cell_type": "code",
      "execution_count": 10,
      "metadata": {
        "id": "fCwN35oHI3bO"
      },
      "outputs": [],
      "source": [
        "import time\n",
        "from typing import List, Optional\n",
        "\n",
        "from bs4 import BeautifulSoup\n",
        "import pandas as pd\n",
        "from selenium.webdriver.common.by import By\n",
        "import undetected_chromedriver as uc"
      ]
    },
    {
      "cell_type": "code",
      "execution_count": 14,
      "metadata": {},
      "outputs": [],
      "source": [
        "# Initialize empty lists to store product information\n",
        "product_titles: List[str] = []\n",
        "product_prices: List[str] = []\n",
        "product_image_srcs: List[str] = []\n",
        "product_links: List[str] = []"
      ]
    },
    {
      "cell_type": "code",
      "execution_count": 2,
      "metadata": {},
      "outputs": [
        {
          "data": {
            "text/plain": [
              "True"
            ]
          },
          "execution_count": 2,
          "metadata": {},
          "output_type": "execute_result"
        }
      ],
      "source": [
        "driver = uc.Chrome(use_subprocess=False)\n",
        "driver.get('https://direct.asda.com/george/school-uniform/D10,default,sc.html')"
      ]
    },
    {
      "cell_type": "code",
      "execution_count": 16,
      "metadata": {},
      "outputs": [],
      "source": [
        "urls = [\n",
        "    \"https://direct.asda.com/george/school/all-boys-school-uniform/D10M1G2C1,default,sc.html\",\n",
        "    \"https://direct.asda.com/george/school/all-girls-school-uniform/D10M2G2C1,default,sc.html\",\n",
        "    \"https://direct.asda.com/george/school/all-school-shoes-trainers/D10M20G1C1,default,sc.html\"\n",
        "]"
      ]
    },
    {
      "cell_type": "code",
      "execution_count": 15,
      "metadata": {},
      "outputs": [],
      "source": [
        "def scrape_asda_from_url(url: str) -> None:\n",
        "    driver.get(url)\n",
        "    scroll_to_bottom(driver)\n",
        "    products = driver.find_elements(By.CSS_SELECTOR, \"div.product-mini-outer-container\")\n",
        "    for product in products:\n",
        "        parse_product(product)\n",
        "\n",
        "def scroll_to_bottom(driver):\n",
        "    SCROLL_PAUSE_TIME = 0.5\n",
        "    last_height = driver.execute_script(\"return document.body.scrollHeight\")\n",
        "    while True:\n",
        "        driver.execute_script(\"window.scrollTo(0, document.body.scrollHeight);\")\n",
        "        time.sleep(SCROLL_PAUSE_TIME)\n",
        "        new_height = driver.execute_script(\"return document.body.scrollHeight\")\n",
        "        if new_height == last_height:\n",
        "            break\n",
        "        last_height = new_height\n",
        "\n",
        "def parse_product(product) -> None:\n",
        "    soup = BeautifulSoup(product.get_attribute(\"innerHTML\"), \"html.parser\")\n",
        "    product_container = soup.find(\"div\", class_=\"product-mini\")\n",
        "    if product_container is not None:\n",
        "        product_title = get_product_info(product_container, \"a\", \"title\")\n",
        "        product_titles.append(product_title)\n",
        "        product_price = get_product_info(product_container, \"span\", \"product__price-value\")\n",
        "        product_prices.append(product_price)\n",
        "        product_image_src = get_product_image(product_container)\n",
        "        product_image_srcs.append(product_image_src)\n",
        "        product_link = get_product_info(product_container, \"a\", \"title\", \"href\")\n",
        "        product_links.append(product_link)\n",
        "\n",
        "def get_product_info(container, tag, class_name, attribute=None) -> Optional[str]:\n",
        "    try:\n",
        "        if attribute:\n",
        "            return container.find(tag, class_=class_name)[attribute].strip()\n",
        "        else:\n",
        "            return container.find(tag, class_=class_name).text.strip()\n",
        "    except AttributeError:\n",
        "        return None\n",
        "\n",
        "def get_product_image(container) -> Optional[str]:\n",
        "    try:\n",
        "        return container.find(\"img\", class_=\"primary-image\")[\"src\"]\n",
        "    except AttributeError:\n",
        "        return None"
      ]
    },
    {
      "cell_type": "code",
      "execution_count": 17,
      "metadata": {},
      "outputs": [],
      "source": [
        "for url in urls:\n",
        "    scrape_asda_from_url(url)"
      ]
    },
    {
      "cell_type": "code",
      "execution_count": 18,
      "metadata": {},
      "outputs": [],
      "source": [
        "product_df = pd.DataFrame({\n",
        "    \"product_title\": product_titles,\n",
        "    \"product_price\": product_prices,\n",
        "    \"product_image_src\": product_image_srcs,\n",
        "    \"product_link\": product_links\n",
        "})"
      ]
    },
    {
      "cell_type": "code",
      "execution_count": 25,
      "metadata": {},
      "outputs": [],
      "source": [
        "product_df = product_df[~product_df[\"product_price\"].isnull()]"
      ]
    },
    {
      "cell_type": "code",
      "execution_count": 23,
      "metadata": {},
      "outputs": [],
      "source": [
        "product_df.to_csv(\"../data/asda_product.csv\", index=False)"
      ]
    },
    {
      "cell_type": "code",
      "execution_count": 6,
      "metadata": {},
      "outputs": [
        {
          "data": {
            "text/plain": [
              "'/george/school/boys-school-polo-shirts/white-school-polo-shirt-5-pack/GEM1027123-23619,default,pd.html?clr=White'"
            ]
          },
          "execution_count": 6,
          "metadata": {},
          "output_type": "execute_result"
        }
      ],
      "source": [
        "product_df[\"product_link\"].loc[0]"
      ]
    },
    {
      "cell_type": "code",
      "execution_count": null,
      "metadata": {},
      "outputs": [],
      "source": [
        "driver.quit()"
      ]
    }
  ],
  "metadata": {
    "colab": {
      "provenance": []
    },
    "kernelspec": {
      "display_name": "Python 3",
      "name": "python3"
    },
    "language_info": {
      "codemirror_mode": {
        "name": "ipython",
        "version": 3
      },
      "file_extension": ".py",
      "mimetype": "text/x-python",
      "name": "python",
      "nbconvert_exporter": "python",
      "pygments_lexer": "ipython3",
      "version": "3.11.5"
    }
  },
  "nbformat": 4,
  "nbformat_minor": 0
}
